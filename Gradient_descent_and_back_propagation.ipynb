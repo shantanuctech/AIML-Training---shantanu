{
  "cells": [
    {
      "cell_type": "markdown",
      "metadata": {
        "id": "view-in-github",
        "colab_type": "text"
      },
      "source": [
        "<a href=\"https://colab.research.google.com/github/shantanuctech/AIML-Training---shantanu/blob/main/Gradient_descent_and_back_propagation.ipynb\" target=\"_parent\"><img src=\"https://colab.research.google.com/assets/colab-badge.svg\" alt=\"Open In Colab\"/></a>"
      ]
    },
    {
      "cell_type": "markdown",
      "id": "215d9cd7",
      "metadata": {
        "id": "215d9cd7"
      },
      "source": [
        "# Gradient Descent Tutorial\n",
        "\n",
        "Link to Presentation: https://docs.google.com/presentation/d/1basYOmB3uW8l-p-v1OChzzYI0bzm-r3dr8wFTRpluhk/edit?usp=sharing"
      ]
    },
    {
      "cell_type": "markdown",
      "id": "a34a1283",
      "metadata": {
        "id": "a34a1283"
      },
      "source": [
        "## Import Libraries"
      ]
    },
    {
      "cell_type": "code",
      "execution_count": 1,
      "id": "a8a5d1c3",
      "metadata": {
        "id": "a8a5d1c3"
      },
      "outputs": [],
      "source": [
        "import numpy as np\n",
        "import math\n",
        "import torch\n",
        "import matplotlib.pyplot as plt\n",
        "import torch.nn as nn\n",
        "import torchvision\n",
        "import torchvision.transforms as transforms\n",
        "import torch.nn.functional as F"
      ]
    },
    {
      "cell_type": "markdown",
      "id": "55dffef2",
      "metadata": {
        "id": "55dffef2"
      },
      "source": [
        "## Calculating the gradients of functions\n",
        "\n",
        "Let us start with a simple function: sum of squares. Its gradient is known as 2*x"
      ]
    },
    {
      "cell_type": "code",
      "execution_count": 2,
      "id": "a6bb8397",
      "metadata": {
        "id": "a6bb8397"
      },
      "outputs": [],
      "source": [
        "def f1(X):\n",
        "    return torch.sum(torch.square(X))\n",
        "\n",
        "\n",
        "def grad_f1(X):\n",
        "    grad = torch.zeros_like(X)\n",
        "    for i in range(len(X)):\n",
        "        grad[i] = 2*X[i]\n",
        "    return grad\n"
      ]
    },
    {
      "cell_type": "markdown",
      "source": [
        "Let us see what our function does"
      ],
      "metadata": {
        "id": "eqU6-KR-UNr3"
      },
      "id": "eqU6-KR-UNr3"
    },
    {
      "cell_type": "code",
      "source": [
        "x = torch.tensor([1,2,3]);\n",
        "print('Original X: ', x)\n",
        "print('f1(x): ',f1(x))\n",
        "print('Calculated d(f1)/d(x): ',grad_f1(x))"
      ],
      "metadata": {
        "id": "4KnkWduDPvJ8",
        "outputId": "1341cede-5d89-4f46-8a5e-774cad6d906b",
        "colab": {
          "base_uri": "https://localhost:8080/"
        }
      },
      "id": "4KnkWduDPvJ8",
      "execution_count": 3,
      "outputs": [
        {
          "output_type": "stream",
          "name": "stdout",
          "text": [
            "Original X:  tensor([1, 2, 3])\n",
            "f1(x):  tensor(14)\n",
            "Calculated d(f1)/d(x):  tensor([2, 4, 6])\n"
          ]
        }
      ]
    },
    {
      "cell_type": "markdown",
      "source": [
        "We don't need to calculate the gradient function by ourselves. Pytorch provides **autograd** functionality which calculates the gradients for us on the fly. To do that, we need to define a Pytorch tensor with the flag **requires_grad=True**. We also need to make sure all the functions we are applying on the tensor is done using pytorch functions.\n",
        "\n",
        "For all tensors with requires_grad=True, Pytorch maintains a graph of the operations so that the gradient can be calculated when required, using **backward** function."
      ],
      "metadata": {
        "id": "_LD3WZB4UZEq"
      },
      "id": "_LD3WZB4UZEq"
    },
    {
      "cell_type": "code",
      "source": [
        "x = torch.tensor([4,5,6], dtype=float, requires_grad=True);\n",
        "print('Original X: ', x)\n",
        "y = f1(x)\n",
        "print('f1(x): ', y)\n",
        "dy = grad_f1(x)\n",
        "print('Calculated gradient dy/dx: ', dy.data)\n",
        "# calculate the gradients using autograd\n",
        "y.backward()\n",
        "# now dy/dx will be present in x.grad\n",
        "print('Autograd dy/dx: ', x.grad)"
      ],
      "metadata": {
        "id": "Bgf0YbpSRcn8",
        "outputId": "6dd76799-352c-460b-d73e-fa904af9898c",
        "colab": {
          "base_uri": "https://localhost:8080/"
        }
      },
      "id": "Bgf0YbpSRcn8",
      "execution_count": 4,
      "outputs": [
        {
          "output_type": "stream",
          "name": "stdout",
          "text": [
            "Original X:  tensor([4., 5., 6.], dtype=torch.float64, requires_grad=True)\n",
            "f1(x):  tensor(77., dtype=torch.float64, grad_fn=<SumBackward0>)\n",
            "Calculated gradient dy/dx:  tensor([ 8., 10., 12.], dtype=torch.float64)\n",
            "Autograd dy/dx:  tensor([ 8., 10., 12.], dtype=torch.float64)\n"
          ]
        }
      ]
    },
    {
      "cell_type": "markdown",
      "source": [
        "Let us try a more complex function with multiple steps:\n",
        "z = (x^2 + y)^3\n",
        "\n",
        "Let us calculate by hand. Let us break it like this:\n",
        "w = x^2 + y\n",
        "z = w^3\n",
        "\n",
        "dz/dw = 3w^2\n",
        "dw/dx = 2x\n",
        "dw/dy = 1\n",
        "dz/dx = dz/dw*dw/dx  etc."
      ],
      "metadata": {
        "id": "lMBKgHSbVJx8"
      },
      "id": "lMBKgHSbVJx8"
    },
    {
      "cell_type": "code",
      "source": [
        "# input\n",
        "x = torch.tensor([2], dtype=float, requires_grad=True)\n",
        "print('original x: ', x)\n",
        "y = torch.tensor([5], dtype=float, requires_grad=True)\n",
        "print('original y: ', y)\n",
        "\n",
        "# calculate our function\n",
        "def f2(x,y):\n",
        "  w = x*x + y\n",
        "  z = w**3\n",
        "  return w, z\n",
        "\n",
        "w,z = f2(x,y)\n",
        "print('intermediate w: ', w.data)\n",
        "print('z: ', z.data)"
      ],
      "metadata": {
        "id": "BQS3i74yXKcQ",
        "outputId": "e9993110-7b7b-4299-aa65-dc2cabb0bf8c",
        "colab": {
          "base_uri": "https://localhost:8080/"
        }
      },
      "id": "BQS3i74yXKcQ",
      "execution_count": 5,
      "outputs": [
        {
          "output_type": "stream",
          "name": "stdout",
          "text": [
            "original x:  tensor([2.], dtype=torch.float64, requires_grad=True)\n",
            "original y:  tensor([5.], dtype=torch.float64, requires_grad=True)\n",
            "intermediate w:  tensor([9.], dtype=torch.float64)\n",
            "z:  tensor([729.], dtype=torch.float64)\n"
          ]
        }
      ]
    },
    {
      "cell_type": "markdown",
      "source": [
        "Let us check the gradients computed by Pytorch for the w function:"
      ],
      "metadata": {
        "id": "yC67gdy_YKeB"
      },
      "id": "yC67gdy_YKeB"
    },
    {
      "cell_type": "code",
      "source": [
        "w.backward()\n",
        "print('dw/dx : ', x.grad)\n",
        "print('dw/dy : ', y.grad)"
      ],
      "metadata": {
        "id": "spFvFtP6YYfG",
        "outputId": "a8375de7-85f2-4626-d245-1b74947fecf6",
        "colab": {
          "base_uri": "https://localhost:8080/"
        }
      },
      "id": "spFvFtP6YYfG",
      "execution_count": 6,
      "outputs": [
        {
          "output_type": "stream",
          "name": "stdout",
          "text": [
            "dw/dx :  tensor([4.], dtype=torch.float64)\n",
            "dw/dy :  tensor([1.], dtype=torch.float64)\n"
          ]
        }
      ]
    },
    {
      "cell_type": "markdown",
      "source": [
        "Let us calculate the gradients for the z function:"
      ],
      "metadata": {
        "id": "FVokjhNBZxfM"
      },
      "id": "FVokjhNBZxfM"
    },
    {
      "cell_type": "code",
      "source": [
        "z.backward()"
      ],
      "metadata": {
        "id": "FzsNqyzQZo2c",
        "outputId": "fc2db418-8fb0-473c-a841-71efafdd8a33",
        "colab": {
          "base_uri": "https://localhost:8080/",
          "height": 355
        }
      },
      "id": "FzsNqyzQZo2c",
      "execution_count": 7,
      "outputs": [
        {
          "output_type": "error",
          "ename": "RuntimeError",
          "evalue": "ignored",
          "traceback": [
            "\u001b[0;31m---------------------------------------------------------------------------\u001b[0m",
            "\u001b[0;31mRuntimeError\u001b[0m                              Traceback (most recent call last)",
            "\u001b[0;32m<ipython-input-7-40c0c9b0bbab>\u001b[0m in \u001b[0;36m<cell line: 1>\u001b[0;34m()\u001b[0m\n\u001b[0;32m----> 1\u001b[0;31m \u001b[0mz\u001b[0m\u001b[0;34m.\u001b[0m\u001b[0mbackward\u001b[0m\u001b[0;34m(\u001b[0m\u001b[0;34m)\u001b[0m\u001b[0;34m\u001b[0m\u001b[0;34m\u001b[0m\u001b[0m\n\u001b[0m",
            "\u001b[0;32m/usr/local/lib/python3.10/dist-packages/torch/_tensor.py\u001b[0m in \u001b[0;36mbackward\u001b[0;34m(self, gradient, retain_graph, create_graph, inputs)\u001b[0m\n\u001b[1;32m    485\u001b[0m                 \u001b[0minputs\u001b[0m\u001b[0;34m=\u001b[0m\u001b[0minputs\u001b[0m\u001b[0;34m,\u001b[0m\u001b[0;34m\u001b[0m\u001b[0;34m\u001b[0m\u001b[0m\n\u001b[1;32m    486\u001b[0m             )\n\u001b[0;32m--> 487\u001b[0;31m         torch.autograd.backward(\n\u001b[0m\u001b[1;32m    488\u001b[0m             \u001b[0mself\u001b[0m\u001b[0;34m,\u001b[0m \u001b[0mgradient\u001b[0m\u001b[0;34m,\u001b[0m \u001b[0mretain_graph\u001b[0m\u001b[0;34m,\u001b[0m \u001b[0mcreate_graph\u001b[0m\u001b[0;34m,\u001b[0m \u001b[0minputs\u001b[0m\u001b[0;34m=\u001b[0m\u001b[0minputs\u001b[0m\u001b[0;34m\u001b[0m\u001b[0;34m\u001b[0m\u001b[0m\n\u001b[1;32m    489\u001b[0m         )\n",
            "\u001b[0;32m/usr/local/lib/python3.10/dist-packages/torch/autograd/__init__.py\u001b[0m in \u001b[0;36mbackward\u001b[0;34m(tensors, grad_tensors, retain_graph, create_graph, grad_variables, inputs)\u001b[0m\n\u001b[1;32m    198\u001b[0m     \u001b[0;31m# some Python versions print out the first line of a multi-line function\u001b[0m\u001b[0;34m\u001b[0m\u001b[0;34m\u001b[0m\u001b[0m\n\u001b[1;32m    199\u001b[0m     \u001b[0;31m# calls in the traceback and some print out the last line\u001b[0m\u001b[0;34m\u001b[0m\u001b[0;34m\u001b[0m\u001b[0m\n\u001b[0;32m--> 200\u001b[0;31m     Variable._execution_engine.run_backward(  # Calls into the C++ engine to run the backward pass\n\u001b[0m\u001b[1;32m    201\u001b[0m         \u001b[0mtensors\u001b[0m\u001b[0;34m,\u001b[0m \u001b[0mgrad_tensors_\u001b[0m\u001b[0;34m,\u001b[0m \u001b[0mretain_graph\u001b[0m\u001b[0;34m,\u001b[0m \u001b[0mcreate_graph\u001b[0m\u001b[0;34m,\u001b[0m \u001b[0minputs\u001b[0m\u001b[0;34m,\u001b[0m\u001b[0;34m\u001b[0m\u001b[0;34m\u001b[0m\u001b[0m\n\u001b[1;32m    202\u001b[0m         allow_unreachable=True, accumulate_grad=True)  # Calls into the C++ engine to run the backward pass\n",
            "\u001b[0;31mRuntimeError\u001b[0m: Trying to backward through the graph a second time (or directly access saved tensors after they have already been freed). Saved intermediate values of the graph are freed when you call .backward() or autograd.grad(). Specify retain_graph=True if you need to backward through the graph a second time or if you need to access saved tensors after calling backward."
          ]
        }
      ]
    },
    {
      "cell_type": "markdown",
      "source": [
        "In Pytorch, we can't run **backward()** through the same graph twice to save memory. So we have to run the function again or put the flag **retain_graph=True**"
      ],
      "metadata": {
        "id": "-kxBl6VkZ1EM"
      },
      "id": "-kxBl6VkZ1EM"
    },
    {
      "cell_type": "code",
      "source": [
        "# we need to clear all previous gradients, otherwise, it will get added up\n",
        "x = x.detach()\n",
        "y = y.detach()\n",
        "x.requires_grad=True\n",
        "y.requires_grad=True\n",
        "\n",
        "\n",
        "w,z = f2(x,y)\n",
        "\n",
        "z.backward()\n",
        "\n",
        "print('dz/dx = dz/dw * dw/dx: ', x.grad)\n",
        "print('dz/dy = dz/dw * dw/dy: ', y.grad)"
      ],
      "metadata": {
        "id": "ixUiJi84aFtg",
        "outputId": "149e7f22-db45-4145-d8c6-3a49e44c94d4",
        "colab": {
          "base_uri": "https://localhost:8080/"
        }
      },
      "id": "ixUiJi84aFtg",
      "execution_count": 8,
      "outputs": [
        {
          "output_type": "stream",
          "name": "stdout",
          "text": [
            "dz/dx = dz/dw * dw/dx:  tensor([972.], dtype=torch.float64)\n",
            "dz/dy = dz/dw * dw/dy:  tensor([243.], dtype=torch.float64)\n"
          ]
        }
      ]
    },
    {
      "cell_type": "markdown",
      "source": [
        "## Questions\n",
        "* Try with your own functions of multiple steps and multiple variables. Does the calculated gradient match the actual gradient?\n",
        "* How do we calculate the gradient of a vector?"
      ],
      "metadata": {
        "id": "1a5f1JrskdZ_"
      },
      "id": "1a5f1JrskdZ_"
    },
    {
      "cell_type": "markdown",
      "id": "e80cf9d9",
      "metadata": {
        "id": "e80cf9d9"
      },
      "source": [
        "# Gradient Descent"
      ]
    },
    {
      "cell_type": "markdown",
      "source": [
        "Let us try to find the minimum of a simple function x^2. First let us look at the graph of the function."
      ],
      "metadata": {
        "id": "M4Yw8WQleaTW"
      },
      "id": "M4Yw8WQleaTW"
    },
    {
      "cell_type": "code",
      "source": [
        "def f3(x):\n",
        "  return x**2\n",
        "\n",
        "def plot_function(function, start, end):\n",
        "  x = torch.linspace(start, end, 1000)\n",
        "  y = f3(x)\n",
        "  plt.plot(x,y)\n",
        "\n",
        "\n"
      ],
      "metadata": {
        "id": "GkdGX9aSeTfw"
      },
      "id": "GkdGX9aSeTfw",
      "execution_count": 9,
      "outputs": []
    },
    {
      "cell_type": "code",
      "source": [
        "plot_function(f3, -1000,1000)\n",
        "plt.show()"
      ],
      "metadata": {
        "id": "yw2MtBZ7fX5w",
        "outputId": "2f0f881e-758f-4cfa-f325-f953b00d37cb",
        "colab": {
          "base_uri": "https://localhost:8080/",
          "height": 445
        }
      },
      "id": "yw2MtBZ7fX5w",
      "execution_count": 10,
      "outputs": [
        {
          "output_type": "display_data",
          "data": {
            "text/plain": [
              "<Figure size 640x480 with 1 Axes>"
            ],
            "image/png": "[encoded data removed]"
          },
          "metadata": {}
        }
      ]
    },
    {
      "cell_type": "markdown",
      "source": [
        "Here is a function for **Gradient Descent**, where we start with a random **x**, and move slowly in the negative gradient direction"
      ],
      "metadata": {
        "id": "WNPAs67Ef41U"
      },
      "id": "WNPAs67Ef41U"
    },
    {
      "cell_type": "markdown",
      "id": "6e3366e0",
      "metadata": {
        "id": "6e3366e0"
      },
      "source": [
        "**Note:** Talk about convergence_threshold\n",
        "- Just a bargain between time and precision\n",
        "- Near the minima, update rate becomes very slow\n",
        "- Also, getting an exact match for complex functions is difficult (splly when going stochastic)"
      ]
    },
    {
      "cell_type": "code",
      "source": [
        "def gradient_descent_visualize(function, lr=0.1, convergence_threshold = 0.01, max_iter = 10000):\n",
        "  x = torch.rand(1, requires_grad=True)\n",
        "  x_history = []\n",
        "  for ii in range(max_iter):\n",
        "    y = function(x)\n",
        "    y.backward()\n",
        "    x_new = x - x.grad*lr\n",
        "    if torch.abs(x_new - x) < convergence_threshold:\n",
        "      x = x_new\n",
        "      break\n",
        "    # store the history of steps so that we can see\n",
        "    x_history = x_history + [x_new]\n",
        "    # zero the gradients\n",
        "    x = x_new.detach()\n",
        "    x.requires_grad = True\n",
        "\n",
        "  return x, torch.tensor(x_history)\n"
      ],
      "metadata": {
        "id": "2KthBxurgFza"
      },
      "id": "2KthBxurgFza",
      "execution_count": 11,
      "outputs": []
    },
    {
      "cell_type": "code",
      "source": [
        "x, history = gradient_descent_visualize(f3 , lr=0.1)\n",
        "print(x)"
      ],
      "metadata": {
        "id": "lek8d9QKgR6y",
        "outputId": "700f93a3-c6ca-4b50-eb04-dde4bccba012",
        "colab": {
          "base_uri": "https://localhost:8080/"
        }
      },
      "id": "lek8d9QKgR6y",
      "execution_count": 25,
      "outputs": [
        {
          "output_type": "stream",
          "name": "stdout",
          "text": [
            "tensor([0.0336], grad_fn=<SubBackward0>)\n"
          ]
        }
      ]
    },
    {
      "cell_type": "markdown",
      "source": [
        "Let us write a function for visualizing the steps taken"
      ],
      "metadata": {
        "id": "L-LZ3MashfLN"
      },
      "id": "L-LZ3MashfLN"
    },
    {
      "cell_type": "code",
      "source": [
        "def plot_function_2(function, history):\n",
        "  y = function(history)\n",
        "  plt.plot(history, y,color='red', marker='o', fillstyle='full')"
      ],
      "metadata": {
        "id": "F3GtAB0JhoAa"
      },
      "id": "F3GtAB0JhoAa",
      "execution_count": 13,
      "outputs": []
    },
    {
      "cell_type": "code",
      "source": [
        "plot_function(f3, -1, 1)\n",
        "plot_function_2(f3, history)\n",
        "plt.show()"
      ],
      "metadata": {
        "id": "eg2B9eVkjBJh",
        "outputId": "a85907a1-4c79-4ae6-cc42-542fc5b7f2ed",
        "colab": {
          "base_uri": "https://localhost:8080/",
          "height": 430
        }
      },
      "id": "eg2B9eVkjBJh",
      "execution_count": 26,
      "outputs": [
        {
          "output_type": "display_data",
          "data": {
            "text/plain": [
              "<Figure size 640x480 with 1 Axes>"
            ],
            "image/png": "[encoded data removed]"
          },
          "metadata": {}
        }
      ]
    },
    {
      "cell_type": "markdown",
      "source": [
        "## Questions\n",
        "1. Try with different iterations, learning rates and functions. Try non-convex functions and see how it converges!\n",
        "2. Does changing these values give you better minima estimation?"
      ],
      "metadata": {
        "id": "joeib4vUk27k"
      },
      "id": "joeib4vUk27k"
    },
    {
      "cell_type": "markdown",
      "source": [
        "# Doing it for an MLP!\n",
        "\n",
        "Let us try to apply the gradient descent algorithm to a multi layer perceptron. The steps are the same. The increased complexity of the function doesn't matter as Autograd calculates the gradient for us.\n",
        "\n",
        "\n",
        "For a neural network, there are two inputs to the function: f(x, w) where x is the input (image, text etc. ) and w is the weight. The neural network will have a loss function: L(f(x, w)) or L(x, w). We will be doing gradient descent on w using dL/dw and not on x, as we can't control the input.\n",
        "\n",
        "Instead of using a single learning rate and updating the weights ourselves, Pytorch provides 'optimizers' which implement many algorithmic tricks, like variable learning rates, momentum, weight decay etc. When running gradient descent for an MLP, it is better to use an optimizer instead of manually changing the weights.\n",
        "\n",
        "\n",
        "The following code is taken from the lab on Day 1"
      ],
      "metadata": {
        "id": "XWdYnGxR7YmY"
      },
      "id": "XWdYnGxR7YmY"
    },
    {
      "cell_type": "markdown",
      "source": [
        "### Defining a simple convolutional model"
      ],
      "metadata": {
        "id": "r6Bd2IkQ8Qtv"
      },
      "id": "r6Bd2IkQ8Qtv"
    },
    {
      "cell_type": "code",
      "source": [
        "# CNN with 2 CONV layers and 3 FC layers\n",
        "class Net(nn.Module):\n",
        "    def __init__(self):\n",
        "        super().__init__()\n",
        "        self.conv1 = nn.Conv2d(3, 16, 3)\n",
        "        self.pool = nn.MaxPool2d(2, 2)\n",
        "        self.conv2 = nn.Conv2d(16, 32, 5)\n",
        "        self.fc1 = nn.Linear(32 * 5 * 5, 512)\n",
        "        self.fc2 = nn.Linear(512, 128)\n",
        "        # output layer 10 classes\n",
        "        self.fc3 = nn.Linear(128, 10)\n",
        "\n",
        "    def forward(self, x):\n",
        "        x = self.pool(F.relu(self.conv1(x)))\n",
        "        x = self.pool(F.relu(self.conv2(x)))\n",
        "        # flatten all dimensions except batch\n",
        "        x = torch.flatten(x, 1)\n",
        "        x = F.relu(self.fc1(x))\n",
        "        x = F.relu(self.fc2(x))\n",
        "        x = self.fc3(x)\n",
        "        return x"
      ],
      "metadata": {
        "id": "612KEadH8AOJ"
      },
      "id": "612KEadH8AOJ",
      "execution_count": 27,
      "outputs": []
    },
    {
      "cell_type": "markdown",
      "source": [
        "### Take care of the data"
      ],
      "metadata": {
        "id": "8WxKg6U08VF-"
      },
      "id": "8WxKg6U08VF-"
    },
    {
      "cell_type": "code",
      "source": [
        "transform = transforms.Compose(\n",
        "    [transforms.ToTensor(),\n",
        "     transforms.Normalize((0.5, 0.5, 0.5), (0.5, 0.5, 0.5))])\n",
        "\n",
        "batch_size = 128\n",
        "\n",
        "trainset = torchvision.datasets.CIFAR10(root='./data', train=True,\n",
        "                                        download=True, transform=transform)\n",
        "trainloader = torch.utils.data.DataLoader(trainset, batch_size=batch_size,\n",
        "                                          shuffle=True, num_workers=2)\n",
        "\n",
        "testset = torchvision.datasets.CIFAR10(root='./data', train=False,\n",
        "                                       download=True, transform=transform)\n",
        "testloader = torch.utils.data.DataLoader(testset, batch_size=batch_size,\n",
        "                                         shuffle=False, num_workers=2)\n",
        "\n",
        "# Classes in CIFAR10\n",
        "classes = ('plane', 'car', 'bird', 'cat',\n",
        "           'deer', 'dog', 'frog', 'horse', 'ship', 'truck')"
      ],
      "metadata": {
        "id": "zJWSu_3Z8UVK",
        "outputId": "58fe8bd8-d7c0-49c0-db4d-760a96eaf724",
        "colab": {
          "base_uri": "https://localhost:8080/"
        }
      },
      "id": "zJWSu_3Z8UVK",
      "execution_count": 28,
      "outputs": [
        {
          "output_type": "stream",
          "name": "stdout",
          "text": [
            "Downloading https://www.cs.toronto.edu/~kriz/cifar-10-python.tar.gz to ./data/cifar-10-python.tar.gz\n"
          ]
        },
        {
          "output_type": "stream",
          "name": "stderr",
          "text": [
            "100%|██████████| 170498071/170498071 [00:03<00:00, 42889417.91it/s]\n"
          ]
        },
        {
          "output_type": "stream",
          "name": "stdout",
          "text": [
            "Extracting ./data/cifar-10-python.tar.gz to ./data\n",
            "Files already downloaded and verified\n"
          ]
        }
      ]
    },
    {
      "cell_type": "code",
      "source": [
        "print('Training data shape : ', trainset.data.shape, len(trainset.targets))\n",
        "print('Testing data shape : ', testset.data.shape, len(testset.targets))\n",
        "\n",
        "# Find the unique numbers from the train labels\n",
        "nClasses = len(classes)\n",
        "print('Total number of outputs : ', nClasses)\n",
        "print('Output classes : ', classes)"
      ],
      "metadata": {
        "id": "kiBbDo_s8zu9",
        "outputId": "2bab1936-0055-4d0f-81e1-566e80831845",
        "colab": {
          "base_uri": "https://localhost:8080/"
        }
      },
      "id": "kiBbDo_s8zu9",
      "execution_count": 29,
      "outputs": [
        {
          "output_type": "stream",
          "name": "stdout",
          "text": [
            "Training data shape :  (50000, 32, 32, 3) 50000\n",
            "Testing data shape :  (10000, 32, 32, 3) 10000\n",
            "Total number of outputs :  10\n",
            "Output classes :  ('plane', 'car', 'bird', 'cat', 'deer', 'dog', 'frog', 'horse', 'ship', 'truck')\n"
          ]
        }
      ]
    },
    {
      "cell_type": "markdown",
      "source": [
        "Let us write a training function to implement gradient descent:"
      ],
      "metadata": {
        "id": "sUjEmRRD8pTy"
      },
      "id": "sUjEmRRD8pTy"
    },
    {
      "cell_type": "code",
      "source": [
        "def train(num_epochs, model, train_loader, loss_func, optimizer):\n",
        "\n",
        "  # Training mode\n",
        "  model.train()\n",
        "\n",
        "  train_losses = []\n",
        "  train_acc = []\n",
        "\n",
        "  # Train the model\n",
        "  for epoch in range(num_epochs):\n",
        "    running_loss = 0\n",
        "    running_acc = 0\n",
        "    for i, (images, labels) in enumerate(train_loader):\n",
        "\n",
        "      # clear gradients for this training step\n",
        "      optimizer.zero_grad()\n",
        "\n",
        "      # Forward pass\n",
        "      output = model(images)\n",
        "\n",
        "      # Calculate loss\n",
        "      loss = loss_func(output, labels)\n",
        "\n",
        "      # Backpropagation, compute gradients\n",
        "      loss.backward()\n",
        "\n",
        "      # Apply gradients\n",
        "      optimizer.step()\n",
        "\n",
        "      # Running loss\n",
        "      running_loss += loss.item()\n",
        "\n",
        "      # indices of max probabilities\n",
        "      _, preds = torch.max(output, dim=1)\n",
        "\n",
        "      # Calculate number of correct predictions\n",
        "      correct = (preds.float() == labels).sum()\n",
        "      running_acc += correct\n",
        "\n",
        "      # Average loss and acc values\n",
        "      epoch_loss = running_loss / len(train_loader.dataset)\n",
        "      epoch_acc = running_acc / len(train_loader.dataset)\n",
        "\n",
        "    train_losses.append(epoch_loss)\n",
        "    train_acc.append(epoch_acc)\n",
        "    print ('Epoch {}/{}, Loss: {:.4f}, Accuracy: {:.4f}'.format(epoch + 1, num_epochs, epoch_loss, epoch_acc*100))\n",
        "\n",
        "  return train_losses, train_acc"
      ],
      "metadata": {
        "id": "pzJ36IJv8xCG"
      },
      "id": "pzJ36IJv8xCG",
      "execution_count": 31,
      "outputs": []
    },
    {
      "cell_type": "markdown",
      "source": [
        "Test function"
      ],
      "metadata": {
        "id": "UckvNxnA9cQg"
      },
      "id": "UckvNxnA9cQg"
    },
    {
      "cell_type": "code",
      "source": [
        "def test_model(model, testloader):\n",
        "  model.eval()\n",
        "  correct = 0\n",
        "  total = 0\n",
        "  # Deactivate autograd engine (don't compute grads since we're not training)\n",
        "  with torch.no_grad():\n",
        "    for data in testloader:\n",
        "        images, labels = data\n",
        "        # Calculate outputs by running images through the network\n",
        "        outputs = model(images)\n",
        "        # The class with the highest value is what we choose as prediction\n",
        "        _, predicted = torch.max(outputs.data, 1)\n",
        "        total += labels.size(0)\n",
        "        correct += (predicted == labels).sum().item()\n",
        "\n",
        "  print('Accuracy of the network: %d %%' % (\n",
        "      100 * correct / total))"
      ],
      "metadata": {
        "id": "CP-7OlFY9bRe"
      },
      "id": "CP-7OlFY9bRe",
      "execution_count": null,
      "outputs": []
    },
    {
      "cell_type": "markdown",
      "source": [
        "### Do the training!"
      ],
      "metadata": {
        "id": "Si745mfN9kF-"
      },
      "id": "Si745mfN9kF-"
    },
    {
      "cell_type": "code",
      "source": [
        "# start with a fresh model\n",
        "model = Net()\n",
        "print(model)"
      ],
      "metadata": {
        "id": "gPAVUvS39g4F",
        "outputId": "8169a22a-7442-478d-fde4-677d7f3857ce",
        "colab": {
          "base_uri": "https://localhost:8080/"
        }
      },
      "id": "gPAVUvS39g4F",
      "execution_count": 32,
      "outputs": [
        {
          "output_type": "stream",
          "name": "stdout",
          "text": [
            "Net(\n",
            "  (conv1): Conv2d(3, 16, kernel_size=(3, 3), stride=(1, 1))\n",
            "  (pool): MaxPool2d(kernel_size=2, stride=2, padding=0, dilation=1, ceil_mode=False)\n",
            "  (conv2): Conv2d(16, 32, kernel_size=(5, 5), stride=(1, 1))\n",
            "  (fc1): Linear(in_features=800, out_features=512, bias=True)\n",
            "  (fc2): Linear(in_features=512, out_features=128, bias=True)\n",
            "  (fc3): Linear(in_features=128, out_features=10, bias=True)\n",
            ")\n"
          ]
        }
      ]
    },
    {
      "cell_type": "markdown",
      "source": [
        "We need a single value to do backward() on. Thus, we need to use the appropriate loss. The common loss function for classification is cross entropy loss."
      ],
      "metadata": {
        "id": "TkSPEwL69v9t"
      },
      "id": "TkSPEwL69v9t"
    },
    {
      "cell_type": "code",
      "source": [
        "# Cross Entropy loss for multi-class classification\n",
        "criterion = nn.CrossEntropyLoss()"
      ],
      "metadata": {
        "id": "Rr-A-xgf9rqZ"
      },
      "id": "Rr-A-xgf9rqZ",
      "execution_count": 33,
      "outputs": []
    },
    {
      "cell_type": "markdown",
      "source": [
        "Let us pick one of the many optimizers available in Pytorch. Here we are using SGD. You can substitute with any optimizer from this page: https://pytorch.org/docs/stable/optim.html#per-parameter-options"
      ],
      "metadata": {
        "id": "a9tBLICa98WB"
      },
      "id": "a9tBLICa98WB"
    },
    {
      "cell_type": "code",
      "source": [
        "# SGD optimizer with momentum\n",
        "optimizer = torch.optim.SGD(model.parameters(), lr=0.05, momentum=0.9)"
      ],
      "metadata": {
        "id": "Lz9tcTbq-KLv"
      },
      "id": "Lz9tcTbq-KLv",
      "execution_count": 34,
      "outputs": []
    },
    {
      "cell_type": "markdown",
      "source": [
        "Here is the training code:"
      ],
      "metadata": {
        "id": "8FRMq4Ju-TKQ"
      },
      "id": "8FRMq4Ju-TKQ"
    },
    {
      "cell_type": "code",
      "source": [
        "num_epochs = 5  # iterations\n",
        "train_losses, train_acc = train(num_epochs, model, trainloader, criterion, optimizer)"
      ],
      "metadata": {
        "id": "DMAdPkMC-Vmx",
        "outputId": "b7a0cfb2-5d9c-4e67-a2ea-f7fc1a2cbb0c",
        "colab": {
          "base_uri": "https://localhost:8080/"
        }
      },
      "id": "DMAdPkMC-Vmx",
      "execution_count": 35,
      "outputs": [
        {
          "output_type": "stream",
          "name": "stdout",
          "text": [
            "Epoch 1/5, Loss: 0.0130, Accuracy: 38.6800\n",
            "Epoch 2/5, Loss: 0.0095, Accuracy: 56.9920\n",
            "Epoch 3/5, Loss: 0.0078, Accuracy: 65.1460\n",
            "Epoch 4/5, Loss: 0.0067, Accuracy: 70.1840\n",
            "Epoch 5/5, Loss: 0.0058, Accuracy: 73.8880\n"
          ]
        }
      ]
    },
    {
      "cell_type": "code",
      "source": [
        "fig = plt.figure(figsize=(10,4))\n",
        "ax = fig.add_subplot(1,2, 1)\n",
        "ax.plot(np.arange(1,len(train_losses)+1),train_losses)\n",
        "plt.xlabel('Training loss')\n",
        "plt.ylabel('Epochs')\n",
        "ax.set_title('Loss vs Epochs')\n",
        "ax = fig.add_subplot(1,2, 2)\n",
        "ax.plot(np.arange(1,len(train_acc)+1),train_acc)\n",
        "plt.xlabel('Training accuracy')\n",
        "plt.ylabel('Epochs')\n",
        "ax.set_title('Accuracy vs Epochs')\n",
        "plt.show()"
      ],
      "metadata": {
        "id": "sDn37VzD-fN2",
        "outputId": "7bf70e78-eaa3-4c46-a6d7-2233cf80ac69",
        "colab": {
          "base_uri": "https://localhost:8080/",
          "height": 410
        }
      },
      "id": "sDn37VzD-fN2",
      "execution_count": 36,
      "outputs": [
        {
          "output_type": "display_data",
          "data": {
            "text/plain": [
              "<Figure size 1000x400 with 2 Axes>"
            ],
            "image/png": "[encoded data removed]"
          },
          "metadata": {}
        }
      ]
    },
    {
      "cell_type": "code",
      "source": [
        "# Accuracy on test data after training\n",
        "test_model(model, testloader)"
      ],
      "metadata": {
        "id": "lYr4o5ud-gMJ",
        "outputId": "0daaa30b-1108-4584-9fec-b474c04809ef",
        "colab": {
          "base_uri": "https://localhost:8080/",
          "height": 193
        }
      },
      "id": "lYr4o5ud-gMJ",
      "execution_count": 37,
      "outputs": [
        {
          "output_type": "error",
          "ename": "NameError",
          "evalue": "ignored",
          "traceback": [
            "\u001b[0;31m---------------------------------------------------------------------------\u001b[0m",
            "\u001b[0;31mNameError\u001b[0m                                 Traceback (most recent call last)",
            "\u001b[0;32m<ipython-input-37-2515667f4d7c>\u001b[0m in \u001b[0;36m<cell line: 2>\u001b[0;34m()\u001b[0m\n\u001b[1;32m      1\u001b[0m \u001b[0;31m# Accuracy on test data after training\u001b[0m\u001b[0;34m\u001b[0m\u001b[0;34m\u001b[0m\u001b[0m\n\u001b[0;32m----> 2\u001b[0;31m \u001b[0mtest_model\u001b[0m\u001b[0;34m(\u001b[0m\u001b[0mmodel\u001b[0m\u001b[0;34m,\u001b[0m \u001b[0mtestloader\u001b[0m\u001b[0;34m)\u001b[0m\u001b[0;34m\u001b[0m\u001b[0;34m\u001b[0m\u001b[0m\n\u001b[0m",
            "\u001b[0;31mNameError\u001b[0m: name 'test_model' is not defined"
          ]
        }
      ]
    },
    {
      "cell_type": "markdown",
      "source": [
        "### Questions\n",
        "1. Try with different hyperparameters of learning rate and momentum\n",
        "2. Try with different optimizer values."
      ],
      "metadata": {
        "id": "Oabb0UFv-t3s"
      },
      "id": "Oabb0UFv-t3s"
    },
    {
      "cell_type": "code",
      "source": [],
      "metadata": {
        "id": "AikFvg7Y-z6i"
      },
      "id": "AikFvg7Y-z6i",
      "execution_count": null,
      "outputs": []
    }
  ],
  "metadata": {
    "kernelspec": {
      "display_name": "Python [conda env:experimental]",
      "language": "python",
      "name": "conda-env-experimental-py"
    },
    "language_info": {
      "codemirror_mode": {
        "name": "ipython",
        "version": 3
      },
      "file_extension": ".py",
      "mimetype": "text/x-python",
      "name": "python",
      "nbconvert_exporter": "python",
      "pygments_lexer": "ipython3",
      "version": "3.8.12"
    },
    "colab": {
      "provenance": [],
      "toc_visible": true,
      "include_colab_link": true
    }
  },
  "nbformat": 4,
  "nbformat_minor": 5
}